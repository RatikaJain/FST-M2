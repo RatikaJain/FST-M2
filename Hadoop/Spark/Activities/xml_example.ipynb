{
 "cells": [
  {
   "cell_type": "markdown",
   "metadata": {},
   "source": [
    "# XML Example\n",
    "\n",
    "This code block is to import:\n",
    "* FindSpark\n",
    "* SparkSession\n",
    "* Spark SQL functions\n",
    "\n",
    "And then initialises the SparkSession"
   ]
  },
  {
   "cell_type": "code",
   "execution_count": null,
   "metadata": {},
   "outputs": [
    {
     "ename": "",
     "evalue": "",
     "output_type": "error",
     "traceback": [
      "\u001b[1;31mRunning cells with 'Python 3.11.9' requires the ipykernel package.\n",
      "\u001b[1;31mRun the following command to install 'ipykernel' into the Python environment. \n",
      "\u001b[1;31mCommand: 'c:/Users/RatikaJain/AppData/Local/Programs/Python/Python311/python.exe -m pip install ipykernel -U --user --force-reinstall'"
     ]
    }
   ],
   "source": [
    "import findspark\n",
    "from pyspark.sql import SparkSession\n",
    "from pyspark.sql.functions import *\n",
    "import xml.etree.ElementTree as ET\n",
    "\n",
    "findspark.init()\n",
    "\n",
    "spark = SparkSession.builder.master(\"local\").appName(\"FSTExample\").getOrCreate()"
   ]
  },
  {
   "cell_type": "markdown",
   "metadata": {},
   "source": [
    "Read XML file into an RDD"
   ]
  },
  {
   "cell_type": "code",
   "execution_count": null,
   "metadata": {},
   "outputs": [],
   "source": [
    "file_rdd = spark.read.text('./persons.xml', wholetext=True).rdd"
   ]
  },
  {
   "cell_type": "markdown",
   "metadata": {},
   "source": [
    "Function to extract records"
   ]
  },
  {
   "cell_type": "code",
   "execution_count": null,
   "metadata": {},
   "outputs": [],
   "source": [
    "ELEMENTS_TO_EXTRACT = ['firstname', 'middlename', 'lastname', 'dob_year', 'dob_month', 'salary', 'gender']\n",
    "def parse_xml(rdd):\n",
    "    \"\"\"\n",
    "    This function is used to read an xml string from rdd, parse and extract the elements,\n",
    "    then return a list of lists.\n",
    "    \"\"\"\n",
    "    results = []\n",
    "    root = ET.fromstring(rdd[0])\n",
    "\n",
    "    for p in root.findall('person'):\n",
    "        rec = []\n",
    "        rec.append(p.attrib['id'])\n",
    "\n",
    "        for e in ELEMENTS_TO_EXTRACT:\n",
    "            if p.find(e) is None:\n",
    "                rec.append(None)\n",
    "                continue\n",
    "            value = p.find(e).text\n",
    "            if e == 'salary':\n",
    "                value = float(value)\n",
    "            rec.append(value)\n",
    "        results.append(rec)\n",
    "    return results"
   ]
  },
  {
   "cell_type": "markdown",
   "metadata": {},
   "source": [
    "Pass the input file to be parsed"
   ]
  },
  {
   "cell_type": "code",
   "execution_count": null,
   "metadata": {},
   "outputs": [],
   "source": [
    "records_rdd = file_rdd.flatMap(parse_xml)\n",
    "persons = records_rdd.toDF((\"id\", \"firstName\", \"middleName\", \"lastName\", \"dob_year\", \"dob_month\", \"salary\", \"gender\"))\n",
    "persons.show()"
   ]
  }
 ],
 "metadata": {
  "kernelspec": {
   "display_name": "Python 3",
   "language": "python",
   "name": "python3"
  },
  "language_info": {
   "codemirror_mode": {
    "name": "ipython",
    "version": 3
   },
   "file_extension": ".py",
   "mimetype": "text/x-python",
   "name": "python",
   "nbconvert_exporter": "python",
   "pygments_lexer": "ipython3",
   "version": "3.11.9"
  }
 },
 "nbformat": 4,
 "nbformat_minor": 2
}
